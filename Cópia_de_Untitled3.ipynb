{
  "nbformat": 4,
  "nbformat_minor": 0,
  "metadata": {
    "colab": {
      "provenance": []
    },
    "kernelspec": {
      "name": "python3",
      "display_name": "Python 3"
    },
    "language_info": {
      "name": "python"
    }
  },
  "cells": [
    {
      "cell_type": "markdown",
      "source": [],
      "metadata": {
        "id": "ZntF0rYszvck"
      }
    },
    {
      "cell_type": "markdown",
      "source": [],
      "metadata": {
        "id": "QkkIg-9z08rN"
      }
    },
    {
      "cell_type": "code",
      "execution_count": null,
      "metadata": {
        "colab": {
          "base_uri": "https://localhost:8080/"
        },
        "id": "gohbHXnFjIRx",
        "outputId": "0c93303c-1295-4f4e-bd5e-a563f10cd65c"
      },
      "outputs": [
        {
          "output_type": "stream",
          "name": "stdout",
          "text": [
            "1 x 1 = 1\n",
            "1 x 2 = 2\n",
            "1 x 3 = 3\n",
            "1 x 4 = 4\n",
            "1 x 5 = 5\n",
            "1 x 6 = 6\n",
            "1 x 7 = 7\n",
            "1 x 8 = 8\n",
            "1 x 9 = 9\n",
            "1 x 10 = 10\n",
            "2 x 1 = 2\n",
            "2 x 2 = 4\n",
            "2 x 3 = 6\n",
            "2 x 4 = 8\n",
            "2 x 5 = 10\n",
            "2 x 6 = 12\n",
            "2 x 7 = 14\n",
            "2 x 8 = 16\n",
            "2 x 9 = 18\n",
            "2 x 10 = 20\n",
            "3 x 1 = 3\n",
            "3 x 2 = 6\n",
            "3 x 3 = 9\n",
            "3 x 4 = 12\n",
            "3 x 5 = 15\n",
            "3 x 6 = 18\n",
            "3 x 7 = 21\n",
            "3 x 8 = 24\n",
            "3 x 9 = 27\n",
            "3 x 10 = 30\n",
            "4 x 1 = 4\n",
            "4 x 2 = 8\n",
            "4 x 3 = 12\n",
            "4 x 4 = 16\n",
            "4 x 5 = 20\n",
            "4 x 6 = 24\n",
            "4 x 7 = 28\n",
            "4 x 8 = 32\n",
            "4 x 9 = 36\n",
            "4 x 10 = 40\n",
            "5 x 1 = 5\n",
            "5 x 2 = 10\n",
            "5 x 3 = 15\n",
            "5 x 4 = 20\n",
            "5 x 5 = 25\n",
            "5 x 6 = 30\n",
            "5 x 7 = 35\n",
            "5 x 8 = 40\n",
            "5 x 9 = 45\n",
            "5 x 10 = 50\n",
            "6 x 1 = 6\n",
            "6 x 2 = 12\n",
            "6 x 3 = 18\n",
            "6 x 4 = 24\n",
            "6 x 5 = 30\n",
            "6 x 6 = 36\n",
            "6 x 7 = 42\n",
            "6 x 8 = 48\n",
            "6 x 9 = 54\n",
            "6 x 10 = 60\n",
            "7 x 1 = 7\n",
            "7 x 2 = 14\n",
            "7 x 3 = 21\n",
            "7 x 4 = 28\n",
            "7 x 5 = 35\n",
            "7 x 6 = 42\n",
            "7 x 7 = 49\n",
            "7 x 8 = 56\n",
            "7 x 9 = 63\n",
            "7 x 10 = 70\n",
            "8 x 1 = 8\n",
            "8 x 2 = 16\n",
            "8 x 3 = 24\n",
            "8 x 4 = 32\n",
            "8 x 5 = 40\n",
            "8 x 6 = 48\n",
            "8 x 7 = 56\n",
            "8 x 8 = 64\n",
            "8 x 9 = 72\n",
            "8 x 10 = 80\n",
            "9 x 1 = 9\n",
            "9 x 2 = 18\n",
            "9 x 3 = 27\n",
            "9 x 4 = 36\n",
            "9 x 5 = 45\n",
            "9 x 6 = 54\n",
            "9 x 7 = 63\n",
            "9 x 8 = 72\n",
            "9 x 9 = 81\n",
            "9 x 10 = 90\n",
            "10 x 1 = 10\n",
            "10 x 2 = 20\n",
            "10 x 3 = 30\n",
            "10 x 4 = 40\n",
            "10 x 5 = 50\n",
            "10 x 6 = 60\n",
            "10 x 7 = 70\n",
            "10 x 8 = 80\n",
            "10 x 9 = 90\n",
            "10 x 10 = 100\n"
          ]
        }
      ],
      "source": [
        "#5 exercicio #Faça um programa que mostre as tabuadas dos números de 1 a 10 usando\n",
        "#laços de repetição.\n",
        "for i in range (1,11):\n",
        "  for j in range(1,11):\n",
        "    resultado = i * j\n",
        "    print(f\"{i} x {j} = {resultado}\")"
      ]
    },
    {
      "cell_type": "code",
      "source": [],
      "metadata": {
        "id": "A-H8y1v5UiEw"
      },
      "execution_count": null,
      "outputs": []
    },
    {
      "cell_type": "code",
      "source": [],
      "metadata": {
        "id": "ypX2ovUCUj4p"
      },
      "execution_count": null,
      "outputs": []
    },
    {
      "cell_type": "code",
      "source": [
        "#4 exercicio #Faça um programa que receba um número e usando laços de repetição\n",
        "#calcule e mostre a tabuada desse número.\n",
        "numero = int(input(\"digite um numero para calcular a tabuada\"))\n",
        "for i in range(1, 11):\n",
        "  print(f\"{numero} x {i} = {numero*i}\")"
      ],
      "metadata": {
        "colab": {
          "base_uri": "https://localhost:8080/"
        },
        "id": "wpIh5XcojNH4",
        "outputId": "c4b16807-5966-4092-bd1a-e285a7da2dc3"
      },
      "execution_count": null,
      "outputs": [
        {
          "output_type": "stream",
          "name": "stdout",
          "text": [
            "digite um numero para calcular a tabuada4\n",
            "4 x 1 = 4\n",
            "4 x 2 = 8\n",
            "4 x 3 = 12\n",
            "4 x 4 = 16\n",
            "4 x 5 = 20\n",
            "4 x 6 = 24\n",
            "4 x 7 = 28\n",
            "4 x 8 = 32\n",
            "4 x 9 = 36\n",
            "4 x 10 = 40\n"
          ]
        }
      ]
    },
    {
      "cell_type": "code",
      "source": [
        "#6 #Faça um programa que imprima na tela os números de 1 a 20, um abaixo do outro. Depois modifique o programa para que ele mostre os números\n",
        "#um ao lado do outro.\n",
        "numero = int(input(\"digite um numero para calcular a tabuada\"))\n",
        "for i in range(1, 21):\n",
        " print(i)"
      ],
      "metadata": {
        "colab": {
          "base_uri": "https://localhost:8080/"
        },
        "id": "4mg1WgAPjRYU",
        "outputId": "0e8a40f7-eae6-425b-ae50-7e63f3390690"
      },
      "execution_count": null,
      "outputs": [
        {
          "output_type": "stream",
          "name": "stdout",
          "text": [
            "digite um numero para calcular a tabuada2\n",
            "1\n",
            "2\n",
            "3\n",
            "4\n",
            "5\n",
            "6\n",
            "7\n",
            "8\n",
            "9\n",
            "10\n",
            "11\n",
            "12\n",
            "13\n",
            "14\n",
            "15\n",
            "16\n",
            "17\n",
            "18\n",
            "19\n",
            "20\n"
          ]
        }
      ]
    },
    {
      "cell_type": "code",
      "source": [],
      "metadata": {
        "id": "OtZLUxHMTCtt"
      },
      "execution_count": null,
      "outputs": []
    },
    {
      "cell_type": "code",
      "source": [
        "#7 #Faça um programa que imprima na tela apenas os números ímpares entre 1 e 50\n",
        "for i in range (1,51):\n",
        "  if i % 2 !=0:\n",
        "    print(i)\n",
        "\n"
      ],
      "metadata": {
        "colab": {
          "base_uri": "https://localhost:8080/"
        },
        "id": "HFTZsEdVj2_r",
        "outputId": "71ca28b6-5944-4582-82fe-522f5413bbce"
      },
      "execution_count": null,
      "outputs": [
        {
          "output_type": "stream",
          "name": "stdout",
          "text": [
            "1\n",
            "3\n",
            "5\n",
            "7\n",
            "9\n",
            "11\n",
            "13\n",
            "15\n",
            "17\n",
            "19\n",
            "21\n",
            "23\n",
            "25\n",
            "27\n",
            "29\n",
            "31\n",
            "33\n",
            "35\n",
            "37\n",
            "39\n",
            "41\n",
            "43\n",
            "45\n",
            "47\n",
            "49\n"
          ]
        }
      ]
    },
    {
      "cell_type": "code",
      "source": [
        "#8#Faça um programa que receba dois números inteiros e gere os números\n",
        "#inteiros que estão no intervalo compreendido por eles.\n",
        "numero= int(input(\"receba dois numeros inteiros\"))\n",
        "for i in range (2):\n",
        "  print(i)"
      ],
      "metadata": {
        "colab": {
          "base_uri": "https://localhost:8080/"
        },
        "id": "o4LXpPBnmTbE",
        "outputId": "9a9f0760-9c7f-41b5-81b8-e4606f162b42"
      },
      "execution_count": null,
      "outputs": [
        {
          "output_type": "stream",
          "name": "stdout",
          "text": [
            "receba dois numeros inteiros2\n",
            "0\n",
            "1\n"
          ]
        }
      ]
    },
    {
      "cell_type": "code",
      "source": [
        "#9#Uma loja deseja cadastrar 5 clientes e verificar se o faturamento da loja foi\n",
        "#superior a loja B (faturamento = 54000). Se o faturamento atingir esse valor\n",
        "#mostre na tela uma mensagem contendo em quanto foi superado o\n",
        "#faturamento.\n",
        "lojaa=0\n",
        "lojab=54000\n",
        " for cliente in range(5):\n",
        "  gasto = float(input(f\"digite o valor gasto do cliente{cliente+1}\"))\n",
        "   loja+gasto\n",
        "\n",
        "   if lojaa> lojab:\n",
        "   print(f\"a loja a superou  o faturamento da loja b com um valor arrecadado maior de {lojaa-lojab}\")\n",
        "   elif lojab > lojaa:\n",
        "   print (\"a lojab superou  o faturamento da loja a com um valor arrecadado maior de {lojab-lojaa}\")\n",
        "    else:\n",
        "    print(\"as duas lojas arrecadaram o mesmo valor de 54000\")\n"
      ],
      "metadata": {
        "id": "zkk9U9Panc3r"
      },
      "execution_count": null,
      "outputs": []
    },
    {
      "cell_type": "code",
      "source": [
        "#10#Faça um programa que peça 10 números inteiros, calcule e mostre a\n",
        "#quantidade de números pares e a quantidade de números impares.\n",
        "impar=0\n",
        "par=0\n",
        "for i in range(10):\n",
        "  numero=int(input(f\"digite o {i+1} numero inteiro\"))\n",
        "  if numero % 2==0:\n",
        "    par += 1\n",
        "  else:\n",
        "    impar +=1\n",
        "  print(f\"numero impares = {impar} e numeros pares = {par}\")\n",
        "\n"
      ],
      "metadata": {
        "id": "6MgwHDXTKxuX",
        "colab": {
          "base_uri": "https://localhost:8080/",
          "height": 425
        },
        "outputId": "9b089854-8a2b-40aa-b928-e56c895089ac"
      },
      "execution_count": null,
      "outputs": [
        {
          "metadata": {
            "tags": null
          },
          "name": "stdout",
          "output_type": "stream",
          "text": [
            "numero impares = 0 e numeros pares = 1\n",
            "numero impares = 1 e numeros pares = 1\n",
            "numero impares = 2 e numeros pares = 1\n",
            "numero impares = 3 e numeros pares = 1\n"
          ]
        },
        {
          "output_type": "error",
          "ename": "KeyboardInterrupt",
          "evalue": "Interrupted by user",
          "traceback": [
            "\u001b[0;31m---------------------------------------------------------------------------\u001b[0m",
            "\u001b[0;31mKeyboardInterrupt\u001b[0m                         Traceback (most recent call last)",
            "\u001b[0;32m<ipython-input-3-119b7242e191>\u001b[0m in \u001b[0;36m<cell line: 5>\u001b[0;34m()\u001b[0m\n\u001b[1;32m      4\u001b[0m \u001b[0mpar\u001b[0m\u001b[0;34m=\u001b[0m\u001b[0;36m0\u001b[0m\u001b[0;34m\u001b[0m\u001b[0;34m\u001b[0m\u001b[0m\n\u001b[1;32m      5\u001b[0m \u001b[0;32mfor\u001b[0m \u001b[0mi\u001b[0m \u001b[0;32min\u001b[0m \u001b[0mrange\u001b[0m\u001b[0;34m(\u001b[0m\u001b[0;36m10\u001b[0m\u001b[0;34m)\u001b[0m\u001b[0;34m:\u001b[0m\u001b[0;34m\u001b[0m\u001b[0;34m\u001b[0m\u001b[0m\n\u001b[0;32m----> 6\u001b[0;31m   \u001b[0mnumero\u001b[0m\u001b[0;34m=\u001b[0m\u001b[0mint\u001b[0m\u001b[0;34m(\u001b[0m\u001b[0minput\u001b[0m\u001b[0;34m(\u001b[0m\u001b[0;34mf\"digite o {i+1} numero inteiro\"\u001b[0m\u001b[0;34m)\u001b[0m\u001b[0;34m)\u001b[0m\u001b[0;34m\u001b[0m\u001b[0;34m\u001b[0m\u001b[0m\n\u001b[0m\u001b[1;32m      7\u001b[0m   \u001b[0;32mif\u001b[0m \u001b[0mnumero\u001b[0m \u001b[0;34m%\u001b[0m \u001b[0;36m2\u001b[0m\u001b[0;34m==\u001b[0m\u001b[0;36m0\u001b[0m\u001b[0;34m:\u001b[0m\u001b[0;34m\u001b[0m\u001b[0;34m\u001b[0m\u001b[0m\n\u001b[1;32m      8\u001b[0m     \u001b[0mpar\u001b[0m \u001b[0;34m+=\u001b[0m \u001b[0;36m1\u001b[0m\u001b[0;34m\u001b[0m\u001b[0;34m\u001b[0m\u001b[0m\n",
            "\u001b[0;32m/usr/local/lib/python3.10/dist-packages/ipykernel/kernelbase.py\u001b[0m in \u001b[0;36mraw_input\u001b[0;34m(self, prompt)\u001b[0m\n\u001b[1;32m    849\u001b[0m                 \u001b[0;34m\"raw_input was called, but this frontend does not support input requests.\"\u001b[0m\u001b[0;34m\u001b[0m\u001b[0;34m\u001b[0m\u001b[0m\n\u001b[1;32m    850\u001b[0m             )\n\u001b[0;32m--> 851\u001b[0;31m         return self._input_request(str(prompt),\n\u001b[0m\u001b[1;32m    852\u001b[0m             \u001b[0mself\u001b[0m\u001b[0;34m.\u001b[0m\u001b[0m_parent_ident\u001b[0m\u001b[0;34m,\u001b[0m\u001b[0;34m\u001b[0m\u001b[0;34m\u001b[0m\u001b[0m\n\u001b[1;32m    853\u001b[0m             \u001b[0mself\u001b[0m\u001b[0;34m.\u001b[0m\u001b[0m_parent_header\u001b[0m\u001b[0;34m,\u001b[0m\u001b[0;34m\u001b[0m\u001b[0;34m\u001b[0m\u001b[0m\n",
            "\u001b[0;32m/usr/local/lib/python3.10/dist-packages/ipykernel/kernelbase.py\u001b[0m in \u001b[0;36m_input_request\u001b[0;34m(self, prompt, ident, parent, password)\u001b[0m\n\u001b[1;32m    893\u001b[0m             \u001b[0;32mexcept\u001b[0m \u001b[0mKeyboardInterrupt\u001b[0m\u001b[0;34m:\u001b[0m\u001b[0;34m\u001b[0m\u001b[0;34m\u001b[0m\u001b[0m\n\u001b[1;32m    894\u001b[0m                 \u001b[0;31m# re-raise KeyboardInterrupt, to truncate traceback\u001b[0m\u001b[0;34m\u001b[0m\u001b[0;34m\u001b[0m\u001b[0m\n\u001b[0;32m--> 895\u001b[0;31m                 \u001b[0;32mraise\u001b[0m \u001b[0mKeyboardInterrupt\u001b[0m\u001b[0;34m(\u001b[0m\u001b[0;34m\"Interrupted by user\"\u001b[0m\u001b[0;34m)\u001b[0m \u001b[0;32mfrom\u001b[0m \u001b[0;32mNone\u001b[0m\u001b[0;34m\u001b[0m\u001b[0;34m\u001b[0m\u001b[0m\n\u001b[0m\u001b[1;32m    896\u001b[0m             \u001b[0;32mexcept\u001b[0m \u001b[0mException\u001b[0m \u001b[0;32mas\u001b[0m \u001b[0me\u001b[0m\u001b[0;34m:\u001b[0m\u001b[0;34m\u001b[0m\u001b[0;34m\u001b[0m\u001b[0m\n\u001b[1;32m    897\u001b[0m                 \u001b[0mself\u001b[0m\u001b[0;34m.\u001b[0m\u001b[0mlog\u001b[0m\u001b[0;34m.\u001b[0m\u001b[0mwarning\u001b[0m\u001b[0;34m(\u001b[0m\u001b[0;34m\"Invalid Message:\"\u001b[0m\u001b[0;34m,\u001b[0m \u001b[0mexc_info\u001b[0m\u001b[0;34m=\u001b[0m\u001b[0;32mTrue\u001b[0m\u001b[0;34m)\u001b[0m\u001b[0;34m\u001b[0m\u001b[0;34m\u001b[0m\u001b[0m\n",
            "\u001b[0;31mKeyboardInterrupt\u001b[0m: Interrupted by user"
          ]
        }
      ]
    },
    {
      "cell_type": "markdown",
      "source": [],
      "metadata": {
        "id": "nXUERTQNRAco"
      }
    },
    {
      "cell_type": "code",
      "source": [],
      "metadata": {
        "id": "01y9zFRzT-ty"
      },
      "execution_count": null,
      "outputs": []
    },
    {
      "cell_type": "code",
      "source": [
        "12.# Faça um programa que peça uma nota, entre zero e dez. Mostre uma\n",
        "#mensagem caso o valor seja inválido e continue pedindo até que o usuário\n",
        "#informe um valor válido.\n",
        "for i in range (1):\n",
        " nota=int(input(\"digite um nota entre 0 e 10\"))\n",
        " if nota > 0 and nota < 10:\n",
        "  print(\"valor invalido\")\n",
        " else:\n",
        "   print(\"nota inalida, digite uma nota entre 0 e 10\")\n",
        "\n"
      ],
      "metadata": {
        "colab": {
          "base_uri": "https://localhost:8080/"
        },
        "id": "V2ywRoU2VH8q",
        "outputId": "ae38d08e-6241-430f-cc38-7917f883a118"
      },
      "execution_count": null,
      "outputs": [
        {
          "output_type": "stream",
          "name": "stdout",
          "text": [
            "digite um nota entre 0 e 102\n",
            "valor invalido\n"
          ]
        }
      ]
    },
    {
      "cell_type": "code",
      "source": [
        "#13 #Faça um programa que exiba essa tabela de descontos no seguinte formato:\n",
        "#Valordacompra – porcentagem de desconto – valor fina\n",
        "#500 - 1%\n",
        "#600 - 2%\n",
        "# ..... -25%\n",
        "valordacompra=0\n",
        "for i in range (2):\n",
        "  if valordacompra == 500:\n",
        "    valordacompra * 0.1\n",
        "  elif valordacompra == 600:\n",
        "       valordacompra * 0.2\n",
        "  elif valordacompra == 700:\n",
        "       valordacompra * 0.3\n",
        "  elif valordacompra == 800:\n",
        "       valordacompra * 0.4\n",
        "  elif valordacompra == 900:\n",
        "       valordacompra * 0.5\n",
        "  elif valordacompra == 1000:\n",
        "       valordacompra * 0.6\n",
        "  elif valordacompra == 1100:\n",
        "       valordacompra * 0.7\n",
        "  elif valordacompra == 1200:\n",
        "       valordacompra * 0.8\n",
        "  elif valordacompra == 1300:\n",
        "       valordacompra * 0.9\n",
        "  elif valordacompra == 1400:\n",
        "       valordacompra * 0.10\n",
        "  elif valordacompra == 1500:\n",
        "       valordacompra * 0.11\n",
        "  elif valordacompra == 1600:\n",
        "       valordacompra * 0.12\n",
        "  elif valordacompra == 1700:\n",
        "       valordacompra * 0.13\n",
        "  elif valordacompra == 1800:\n",
        "       valordacompra * 0.14\n",
        "  elif valordacompra == 1900:\n",
        "       valordacompra * 0.15\n",
        "  elif valordacompra == 2000:\n",
        "       valordacompra * 0.16\n",
        "  elif valordacompra == 2100:\n",
        "       valordacompra * 0.17\n",
        "  elif valordacompra == 2200:\n",
        "       valordacompra * 0.18\n",
        "  elif valordacompra == 2300:\n",
        "       valordacompra * 0.19\n",
        "  elif valordacompra == 2400:\n",
        "       valordacompra * 0.20\n",
        "  elif valordacompra == 2500:\n",
        "       valordacompra * 0.21\n",
        "  elif valordacompra == 2600:\n",
        "       valordacompra * 0.22\n",
        "  elif valordacompra == 2700:\n",
        "       valordacompra * 0.23\n",
        "  elif valordacompra == 2800:\n",
        "       valordacompra * 0.24\n",
        "  else:\n",
        "   print(\"valor da final\")\n",
        "\n",
        "\n",
        "\n",
        "\n",
        "\n",
        "\n",
        "\n"
      ],
      "metadata": {
        "id": "9tQqAoALZIYc",
        "colab": {
          "base_uri": "https://localhost:8080/"
        },
        "outputId": "136969d9-9667-4bb3-b255-d567b4e04be7"
      },
      "execution_count": null,
      "outputs": [
        {
          "output_type": "stream",
          "name": "stdout",
          "text": [
            "valor da final\n",
            "valor da final\n"
          ]
        }
      ]
    },
    {
      "cell_type": "code",
      "source": [
        "#1 exercicio ler 5 numeros e informe  o maior\n",
        "maior_numero= float ('-inf')\n",
        "for i in range (5):\n",
        " numero = float(input(f\" digite o {i+1} numero:\"))\n",
        " if numero > maior_numero:\n",
        "   maior_numero = numero\n",
        "print(f\"o maior numero digitado e: {maior_numero}\")\n",
        "\n",
        "\n"
      ],
      "metadata": {
        "id": "8qnBRL1rTEZQ"
      },
      "execution_count": null,
      "outputs": []
    },
    {
      "cell_type": "code",
      "source": [
        " #2 exercicio#Faça um programa que verifique e mostre os números entre 1.000 e 2.000\n",
        "#(inclusive) que, quando divididos por 11 produzam resto igual a 2.\n",
        "for numero in range (1000,2001):\n",
        "  if numero % 11 == 2:\n",
        "    print(numero)\n",
        "\n"
      ],
      "metadata": {
        "colab": {
          "base_uri": "https://localhost:8080/"
        },
        "id": "rMBxDNprWomp",
        "outputId": "81edd8b5-f353-4603-fc5c-4f9863c7cb1a"
      },
      "execution_count": null,
      "outputs": [
        {
          "output_type": "stream",
          "name": "stdout",
          "text": [
            "1003\n",
            "1014\n",
            "1025\n",
            "1036\n",
            "1047\n",
            "1058\n",
            "1069\n",
            "1080\n",
            "1091\n",
            "1102\n",
            "1113\n",
            "1124\n",
            "1135\n",
            "1146\n",
            "1157\n",
            "1168\n",
            "1179\n",
            "1190\n",
            "1201\n",
            "1212\n",
            "1223\n",
            "1234\n",
            "1245\n",
            "1256\n",
            "1267\n",
            "1278\n",
            "1289\n",
            "1300\n",
            "1311\n",
            "1322\n",
            "1333\n",
            "1344\n",
            "1355\n",
            "1366\n",
            "1377\n",
            "1388\n",
            "1399\n",
            "1410\n",
            "1421\n",
            "1432\n",
            "1443\n",
            "1454\n",
            "1465\n",
            "1476\n",
            "1487\n",
            "1498\n",
            "1509\n",
            "1520\n",
            "1531\n",
            "1542\n",
            "1553\n",
            "1564\n",
            "1575\n",
            "1586\n",
            "1597\n",
            "1608\n",
            "1619\n",
            "1630\n",
            "1641\n",
            "1652\n",
            "1663\n",
            "1674\n",
            "1685\n",
            "1696\n",
            "1707\n",
            "1718\n",
            "1729\n",
            "1740\n",
            "1751\n",
            "1762\n",
            "1773\n",
            "1784\n",
            "1795\n",
            "1806\n",
            "1817\n",
            "1828\n",
            "1839\n",
            "1850\n",
            "1861\n",
            "1872\n",
            "1883\n",
            "1894\n",
            "1905\n",
            "1916\n",
            "1927\n",
            "1938\n",
            "1949\n",
            "1960\n",
            "1971\n",
            "1982\n",
            "1993\n"
          ]
        }
      ]
    },
    {
      "cell_type": "code",
      "source": [
        "#3 exercicio #ler 5 numeros, fazer a soma dos numeros e a media dos numeros\n",
        "soma= 0\n",
        "for i in range (5):\n",
        "  numero= float(input(f\"digite o {i+1} numero:\"))\n",
        "  soma += numero # soma = soma + numero\n",
        "  media = soma/5\n",
        " print(f\"a soma dos numeros e: {soma}\")\n",
        " print(f\"a soma dos numeros e: {media}\")\n",
        "\n"
      ],
      "metadata": {
        "id": "x9XAgGOzXe9h"
      },
      "execution_count": null,
      "outputs": []
    },
    {
      "cell_type": "code",
      "source": [
        "#14. Faça um programa que receba a idade de 15 pessoas e que calcule e\n",
        "#mostre:\n",
        "#a) A quantidade de pessoas em cada faixa etária;\n",
        "#b) A percentagem de pessoas na primeira e na última faixa etária, com relação\n",
        "idade=0\n",
        "ate15anos=0\n",
        "de16a30anos=0\n",
        "de31a45anos=0\n",
        "de46a60anos=0\n",
        "acimade61anos=0\n",
        "numero=int(input(\"receba a idade de 15 pessoas\"))\n",
        "for i in range (15,61):\n",
        "  if idade <= 15:\n",
        "    ate15anos += 1\n",
        "  elif idade >= 16 or idade <= 30:\n",
        "    De16a30anos += 1\n",
        "  elif idade >= 31 or idade <= 45:\n",
        "    de31a45anos += 1\n",
        "  elif idade >= 46 or idade <= 60:\n",
        "    de46a60anos += 1\n",
        "  elif idade >= 61:\n",
        "    acimade61anos += 1\n",
        "  print(f\"{ate15anos} % {acimade61anos} = resultado\")\n",
        "\n"
      ],
      "metadata": {
        "id": "KdAsNdJ2Zf7K",
        "colab": {
          "base_uri": "https://localhost:8080/"
        },
        "outputId": "37aac638-3ea4-483b-9959-74aae2f7aa29"
      },
      "execution_count": null,
      "outputs": [
        {
          "output_type": "stream",
          "name": "stdout",
          "text": [
            "receba a idade de 15 pessoas31\n",
            "1 % 0 = resultado\n",
            "2 % 0 = resultado\n",
            "3 % 0 = resultado\n",
            "4 % 0 = resultado\n",
            "5 % 0 = resultado\n",
            "6 % 0 = resultado\n",
            "7 % 0 = resultado\n",
            "8 % 0 = resultado\n",
            "9 % 0 = resultado\n",
            "10 % 0 = resultado\n",
            "11 % 0 = resultado\n",
            "12 % 0 = resultado\n",
            "13 % 0 = resultado\n",
            "14 % 0 = resultado\n",
            "15 % 0 = resultado\n",
            "16 % 0 = resultado\n",
            "17 % 0 = resultado\n",
            "18 % 0 = resultado\n",
            "19 % 0 = resultado\n",
            "20 % 0 = resultado\n",
            "21 % 0 = resultado\n",
            "22 % 0 = resultado\n",
            "23 % 0 = resultado\n",
            "24 % 0 = resultado\n",
            "25 % 0 = resultado\n",
            "26 % 0 = resultado\n",
            "27 % 0 = resultado\n",
            "28 % 0 = resultado\n",
            "29 % 0 = resultado\n",
            "30 % 0 = resultado\n",
            "31 % 0 = resultado\n",
            "32 % 0 = resultado\n",
            "33 % 0 = resultado\n",
            "34 % 0 = resultado\n",
            "35 % 0 = resultado\n",
            "36 % 0 = resultado\n",
            "37 % 0 = resultado\n",
            "38 % 0 = resultado\n",
            "39 % 0 = resultado\n",
            "40 % 0 = resultado\n",
            "41 % 0 = resultado\n",
            "42 % 0 = resultado\n",
            "43 % 0 = resultado\n",
            "44 % 0 = resultado\n",
            "45 % 0 = resultado\n",
            "46 % 0 = resultado\n"
          ]
        }
      ]
    },
    {
      "cell_type": "code",
      "source": [
        "#15\n",
        "base = float(input(\"digite base:\"))\n",
        "expoente = int(input(\"digite expoente:\"))\n",
        "resultado = 1\n",
        "if expoente >= 0:\n",
        "    for i in range (expoente):\n",
        "      resultado *= base\n",
        "    else:\n",
        "     for i in range (expoente):\n",
        "        resultado /= base\n",
        "print(\"o resultado de\",base, \" elevado a\", expoente, \"è\", resultado)"
      ],
      "metadata": {
        "colab": {
          "base_uri": "https://localhost:8080/"
        },
        "id": "_-8-Reu3-AOQ",
        "outputId": "8b891737-c2e6-4a72-f790-2b9ab5ddc4c8"
      },
      "execution_count": null,
      "outputs": [
        {
          "output_type": "stream",
          "name": "stdout",
          "text": [
            "digite base:12\n",
            "digite expoente:6\n",
            "o resultado de 12.0  elevado a 6 è 1.0\n"
          ]
        }
      ]
    },
    {
      "cell_type": "code",
      "source": [
        "N=int(input(\"digite um numero inteiro\"))\n",
        "for i in range (1):\n",
        "  primos=[]\n",
        "  for numero in range (2, N + 1):\n",
        "     saoprimos = True\n",
        "     for primo in primos:\n",
        "      if numero % primo == 0:\n",
        "         saoprimos = False\n",
        "         break\n",
        "  if saoprimos:\n",
        "      primos.append(numero)\n",
        "print(\"os numeros primos entre 1 e\",N,\"sao:\", primos)\n"
      ],
      "metadata": {
        "colab": {
          "base_uri": "https://localhost:8080/"
        },
        "id": "UkFr15ZHROt8",
        "outputId": "8070bca3-471c-449e-e732-f7f8617abc92"
      },
      "execution_count": null,
      "outputs": [
        {
          "output_type": "stream",
          "name": "stdout",
          "text": [
            "digite um numero inteiro9\n",
            "os numeros primos entre 1 e 9 sao: [9]\n"
          ]
        }
      ]
    }
  ]
}